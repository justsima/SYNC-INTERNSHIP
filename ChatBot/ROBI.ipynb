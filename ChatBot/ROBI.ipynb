{
  "nbformat": 4,
  "nbformat_minor": 0,
  "metadata": {
    "colab": {
      "provenance": []
    },
    "kernelspec": {
      "name": "python3",
      "display_name": "Python 3"
    },
    "language_info": {
      "name": "python"
    }
  },
  "cells": [
    {
      "cell_type": "code",
      "execution_count": 1,
      "metadata": {
        "colab": {
          "base_uri": "https://localhost:8080/"
        },
        "id": "-OjDThA7h08P",
        "outputId": "ccbc9d02-cec6-43de-be51-d6c36ad3918a"
      },
      "outputs": [
        {
          "output_type": "stream",
          "name": "stderr",
          "text": [
            "[nltk_data] Downloading package punkt to /root/nltk_data...\n",
            "[nltk_data]   Unzipping tokenizers/punkt.zip.\n",
            "[nltk_data] Downloading package stopwords to /root/nltk_data...\n",
            "[nltk_data]   Unzipping corpora/stopwords.zip.\n"
          ]
        },
        {
          "name": "stdout",
          "output_type": "stream",
          "text": [
            "Drive already mounted at /content/drive; to attempt to forcibly remount, call drive.mount(\"/content/drive\", force_remount=True).\n",
            "Robi: Hello! I am Robi, your assistant. (type 'quit' to stop)\n",
            "You: Hey there \n",
            "Robi: How can I assist you today?\n",
            "You: Schedule a meeting for 4 PM\n",
            "Robi: Sure, your meeting has been scheduled.\n",
            "You: could you remind me please\n",
            "Robi: I've set up a reminder for you.\n",
            "You: give me some tips for the meeting \n",
            "Robi: One tip for productive meetings is to have a clear agenda and stick to it. Anything else I can help you with?\n",
            "You: nothing for now, Thank you\n",
            "Robi: You're welcome! Feel free to reach out if you need more assistance.\n",
            "You: Okay GoodBye\n",
            "Robi: Goodbye! Have a great day ahead.\n",
            "You: Quit\n"
          ]
        }
      ],
      "source": [
        "# Import necessary libraries\n",
        "import json\n",
        "import random\n",
        "import nltk\n",
        "from nltk.corpus import stopwords\n",
        "from nltk.tokenize import word_tokenize\n",
        "\n",
        "# Download necessary NLTK data\n",
        "nltk.download('punkt')\n",
        "nltk.download('stopwords')\n",
        "\n",
        "# Function to load intents file\n",
        "def load_intents(file_path):\n",
        "    with open(file_path, 'r') as file:\n",
        "        data = json.load(file)\n",
        "    return data\n",
        "\n",
        "# Mount Google Drive to access the intents file\n",
        "from google.colab import drive\n",
        "drive.mount('/content/drive')\n",
        "\n",
        "# Load the intents file\n",
        "intents = load_intents('/content/drive/MyDrive/Colab Notebooks/ROBI/Intents.json')\n",
        "\n",
        "# Function to preprocess and extract keywords from user input\n",
        "def extract_keywords(user_input):\n",
        "    stop_words = set(stopwords.words('english'))\n",
        "    word_tokens = word_tokenize(user_input)\n",
        "    # Filter out stop words\n",
        "    filtered_words = [word.lower() for word in word_tokens if not word.lower() in stop_words]\n",
        "    return filtered_words\n",
        "\n",
        "# Function to match user input with intents patterns and generate a response\n",
        "def get_response(user_input):\n",
        "    extracted_keywords = extract_keywords(user_input)\n",
        "    best_match = None\n",
        "    max_matches = 0\n",
        "\n",
        "    for intent in intents['intents']:\n",
        "        # Ensure pattern is treated as a string\n",
        "        common_words_count = sum(word in str(pattern).lower() for pattern in intent['patterns'] for word in extracted_keywords)\n",
        "        if common_words_count > max_matches:\n",
        "            max_matches = common_words_count\n",
        "            best_match = intent\n",
        "\n",
        "    if best_match:\n",
        "        return random.choice(best_match['responses'])\n",
        "    else:\n",
        "        return \"I'm not sure how to respond to that.\"\n",
        "\n",
        "# Chatbot interaction function\n",
        "def chat():\n",
        "    print(\"Robi: Hello! I am Robi, your assistant. (type 'quit' to stop)\")\n",
        "    while True:\n",
        "        user_input = input(\"You: \")\n",
        "        if user_input.lower() == 'quit':\n",
        "            break\n",
        "        response = get_response(user_input)\n",
        "        print(f\"Robi: {response}\")\n",
        "\n",
        "# Start chatting with the bot\n",
        "chat()\n"
      ]
    }
  ]
}